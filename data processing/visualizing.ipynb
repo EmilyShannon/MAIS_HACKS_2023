{
 "cells": [
  {
   "cell_type": "code",
   "execution_count": 18,
   "metadata": {},
   "outputs": [
    {
     "name": "stdout",
     "output_type": "stream",
     "text": [
      "     bodyPart    equipment                                         gifUrl  \\\n",
      "0       waist  body weight  http://d205bpvrqc9yn1.cloudfront.net/0001.gif   \n",
      "1       waist  body weight  http://d205bpvrqc9yn1.cloudfront.net/0002.gif   \n",
      "2       waist  body weight  http://d205bpvrqc9yn1.cloudfront.net/0003.gif   \n",
      "3  upper legs  body weight  http://d205bpvrqc9yn1.cloudfront.net/1512.gif   \n",
      "4       waist  body weight  http://d205bpvrqc9yn1.cloudfront.net/0006.gif   \n",
      "\n",
      "     id                     name target  \n",
      "0     1               3/4 sit-up    abs  \n",
      "1     2            45° side bend    abs  \n",
      "2     3                 air bike    abs  \n",
      "3  1512  all fours squad stretch  quads  \n",
      "4     6  alternate heel touchers    abs  \n",
      "     equipment                     name target\n",
      "0  body weight               3/4 sit-up    abs\n",
      "1  body weight            45° side bend    abs\n",
      "2  body weight                 air bike    abs\n",
      "3  body weight  all fours squad stretch  quads\n",
      "4  body weight  alternate heel touchers    abs\n"
     ]
    },
    {
     "data": {
      "text/plain": [
       "(3, 3)"
      ]
     },
     "execution_count": 18,
     "metadata": {},
     "output_type": "execute_result"
    }
   ],
   "source": [
    "import pandas as pd\n",
    "import numpy as np \n",
    "from sklearn.metrics.pairwise import cosine_similarity\n",
    "from sklearn.feature_extraction.text import CountVectorizer\n",
    "\n",
    "data = pd.read_csv('fitness_exercises.csv')\n",
    "print(data.head())\n",
    "X = np.array(data)\n",
    "df2 = data.drop(['bodyPart', 'gifUrl', 'id'], axis=1)\n",
    "print(df2.head())\n",
    "vectorizer = CountVectorizer()\n",
    "vectorized = vectorizer.fit_transform(df2)\n",
    "cos_similarity = pd.DataFrame(cosine_similarity(vectorized))\n",
    "cos_similarity.shape"
   ]
  },
  {
   "cell_type": "code",
   "execution_count": 44,
   "metadata": {},
   "outputs": [
    {
     "data": {
      "text/html": [
       "<div>\n",
       "<style scoped>\n",
       "    .dataframe tbody tr th:only-of-type {\n",
       "        vertical-align: middle;\n",
       "    }\n",
       "\n",
       "    .dataframe tbody tr th {\n",
       "        vertical-align: top;\n",
       "    }\n",
       "\n",
       "    .dataframe thead th {\n",
       "        text-align: right;\n",
       "    }\n",
       "</style>\n",
       "<table border=\"1\" class=\"dataframe\">\n",
       "  <thead>\n",
       "    <tr style=\"text-align: right;\">\n",
       "      <th></th>\n",
       "      <th>Name</th>\n",
       "      <th>Level</th>\n",
       "      <th>Location</th>\n",
       "      <th>Exercises</th>\n",
       "    </tr>\n",
       "  </thead>\n",
       "  <tbody>\n",
       "    <tr>\n",
       "      <th>0</th>\n",
       "      <td>0</td>\n",
       "      <td>Advanced</td>\n",
       "      <td>Gym</td>\n",
       "      <td>Squats, Bench Press, Machine Leg Press</td>\n",
       "    </tr>\n",
       "    <tr>\n",
       "      <th>1</th>\n",
       "      <td>0</td>\n",
       "      <td>Intermediate</td>\n",
       "      <td>Gym</td>\n",
       "      <td>Squats, Bench Press, Machine Leg Curl</td>\n",
       "    </tr>\n",
       "    <tr>\n",
       "      <th>2</th>\n",
       "      <td>0</td>\n",
       "      <td>Advanced</td>\n",
       "      <td>Gym</td>\n",
       "      <td>Deadlift, Bench Press, Machine Curl</td>\n",
       "    </tr>\n",
       "  </tbody>\n",
       "</table>\n",
       "</div>"
      ],
      "text/plain": [
       "   Name         Level Location                               Exercises\n",
       "0     0      Advanced      Gym  Squats, Bench Press, Machine Leg Press\n",
       "1     0  Intermediate      Gym   Squats, Bench Press, Machine Leg Curl\n",
       "2     0      Advanced      Gym     Deadlift, Bench Press, Machine Curl"
      ]
     },
     "execution_count": 44,
     "metadata": {},
     "output_type": "execute_result"
    }
   ],
   "source": [
    "user_df = data = pd.read_csv('../user_input/user_preferences.csv')\n",
    "user_df.head()\n"
   ]
  },
  {
   "cell_type": "code",
   "execution_count": 48,
   "metadata": {},
   "outputs": [
    {
     "ename": "TypeError",
     "evalue": "empty() missing required argument 'shape' (pos 0)",
     "output_type": "error",
     "traceback": [
      "\u001b[1;31m---------------------------------------------------------------------------\u001b[0m",
      "\u001b[1;31mTypeError\u001b[0m                                 Traceback (most recent call last)",
      "\u001b[1;32mc:\\Users\\User\\git\\MAIS_HACKS_2023\\MAIS_HACKS_2023\\data processing\\visualizing.ipynb Cell 3\u001b[0m line \u001b[0;36m<cell line: 5>\u001b[1;34m()\u001b[0m\n\u001b[0;32m      <a href='vscode-notebook-cell:/c%3A/Users/User/git/MAIS_HACKS_2023/MAIS_HACKS_2023/data%20processing/visualizing.ipynb#W2sZmlsZQ%3D%3D?line=2'>3</a>\u001b[0m user_df[\u001b[39m'\u001b[39m\u001b[39mLocation\u001b[39m\u001b[39m'\u001b[39m] \u001b[39m=\u001b[39m user_df[\u001b[39m'\u001b[39m\u001b[39mLocation\u001b[39m\u001b[39m'\u001b[39m]\u001b[39m.\u001b[39mastype(\u001b[39m'\u001b[39m\u001b[39mcategory\u001b[39m\u001b[39m'\u001b[39m)\u001b[39m.\u001b[39mcat\u001b[39m.\u001b[39mcodes\n\u001b[0;32m      <a href='vscode-notebook-cell:/c%3A/Users/User/git/MAIS_HACKS_2023/MAIS_HACKS_2023/data%20processing/visualizing.ipynb#W2sZmlsZQ%3D%3D?line=3'>4</a>\u001b[0m user_df\u001b[39m.\u001b[39mhead()\n\u001b[1;32m----> <a href='vscode-notebook-cell:/c%3A/Users/User/git/MAIS_HACKS_2023/MAIS_HACKS_2023/data%20processing/visualizing.ipynb#W2sZmlsZQ%3D%3D?line=4'>5</a>\u001b[0m np\u001b[39m.\u001b[39;49mempty()\n",
      "\u001b[1;31mTypeError\u001b[0m: empty() missing required argument 'shape' (pos 0)"
     ]
    }
   ],
   "source": [
    "user_df['Level'] = user_df['Level'].astype('category').cat.codes\n",
    "user_df['Exercises'] = user_df['Exercises'].astype('category').cat.codes\n",
    "user_df['Location'] = user_df['Location'].astype('category').cat.codes\n",
    "user_df.head()\n",
    "np.empty()"
   ]
  },
  {
   "cell_type": "code",
   "execution_count": 61,
   "metadata": {},
   "outputs": [
    {
     "name": "stdout",
     "output_type": "stream",
     "text": [
      "[['Squats' 'Bench Press' 'Machine Leg Press']\n",
      " ['Squats' 'Bench Press' 'Machine Leg Curl']\n",
      " ['Deadlift' 'Bench Press' 'Machine Curl']]\n",
      "(3, 3)\n",
      "['Advanced' 'Intermediate' 'Advanced']\n",
      "(3,)\n"
     ]
    },
    {
     "ename": "ValueError",
     "evalue": "all input arrays must have the same shape",
     "output_type": "error",
     "traceback": [
      "\u001b[1;31m---------------------------------------------------------------------------\u001b[0m",
      "\u001b[1;31mValueError\u001b[0m                                Traceback (most recent call last)",
      "\u001b[1;32mc:\\Users\\User\\git\\MAIS_HACKS_2023\\MAIS_HACKS_2023\\data processing\\visualizing.ipynb Cell 4\u001b[0m line \u001b[0;36m<cell line: 12>\u001b[1;34m()\u001b[0m\n\u001b[0;32m     <a href='vscode-notebook-cell:/c%3A/Users/User/git/MAIS_HACKS_2023/MAIS_HACKS_2023/data%20processing/visualizing.ipynb#W3sZmlsZQ%3D%3D?line=9'>10</a>\u001b[0m \u001b[39mprint\u001b[39m(levels)\n\u001b[0;32m     <a href='vscode-notebook-cell:/c%3A/Users/User/git/MAIS_HACKS_2023/MAIS_HACKS_2023/data%20processing/visualizing.ipynb#W3sZmlsZQ%3D%3D?line=10'>11</a>\u001b[0m \u001b[39mprint\u001b[39m(levels\u001b[39m.\u001b[39mshape)\n\u001b[1;32m---> <a href='vscode-notebook-cell:/c%3A/Users/User/git/MAIS_HACKS_2023/MAIS_HACKS_2023/data%20processing/visualizing.ipynb#W3sZmlsZQ%3D%3D?line=11'>12</a>\u001b[0m x \u001b[39m=\u001b[39m np\u001b[39m.\u001b[39;49mstack((np\u001b[39m.\u001b[39;49mtranspose(levels), all_exercises), axis\u001b[39m=\u001b[39;49m\u001b[39m0\u001b[39;49m)\n\u001b[0;32m     <a href='vscode-notebook-cell:/c%3A/Users/User/git/MAIS_HACKS_2023/MAIS_HACKS_2023/data%20processing/visualizing.ipynb#W3sZmlsZQ%3D%3D?line=12'>13</a>\u001b[0m pd\u001b[39m.\u001b[39mDataFrame(np\u001b[39m.\u001b[39mhstack(np\u001b[39m.\u001b[39mtranspose(levels), all_exercises))\n",
      "File \u001b[1;32m<__array_function__ internals>:180\u001b[0m, in \u001b[0;36mstack\u001b[1;34m(*args, **kwargs)\u001b[0m\n",
      "File \u001b[1;32mc:\\Users\\User\\Downloads\\lib\\site-packages\\numpy\\core\\shape_base.py:426\u001b[0m, in \u001b[0;36mstack\u001b[1;34m(arrays, axis, out)\u001b[0m\n\u001b[0;32m    424\u001b[0m shapes \u001b[39m=\u001b[39m {arr\u001b[39m.\u001b[39mshape \u001b[39mfor\u001b[39;00m arr \u001b[39min\u001b[39;00m arrays}\n\u001b[0;32m    425\u001b[0m \u001b[39mif\u001b[39;00m \u001b[39mlen\u001b[39m(shapes) \u001b[39m!=\u001b[39m \u001b[39m1\u001b[39m:\n\u001b[1;32m--> 426\u001b[0m     \u001b[39mraise\u001b[39;00m \u001b[39mValueError\u001b[39;00m(\u001b[39m'\u001b[39m\u001b[39mall input arrays must have the same shape\u001b[39m\u001b[39m'\u001b[39m)\n\u001b[0;32m    428\u001b[0m result_ndim \u001b[39m=\u001b[39m arrays[\u001b[39m0\u001b[39m]\u001b[39m.\u001b[39mndim \u001b[39m+\u001b[39m \u001b[39m1\u001b[39m\n\u001b[0;32m    429\u001b[0m axis \u001b[39m=\u001b[39m normalize_axis_index(axis, result_ndim)\n",
      "\u001b[1;31mValueError\u001b[0m: all input arrays must have the same shape"
     ]
    }
   ],
   "source": [
    "user_df = data = pd.read_csv('../user_input/user_preferences.csv')\n",
    "df = pd.DataFrame()\n",
    "all_exercises = list()\n",
    "for str in user_df['Exercises']:\n",
    "    all_exercises.append(str.split(\", \"))\n",
    "all_exercises = np.array(all_exercises)\n",
    "print(all_exercises)\n",
    "print(all_exercises.shape)\n",
    "levels = user_df['Level'].to_numpy()\n",
    "print(levels)\n",
    "print(levels.shape)\n",
    "x = np.stack((np.transpose(levels), all_exercises), axis=0)\n",
    "pd.DataFrame(np.hstack(np.transpose(levels), all_exercises))"
   ]
  }
 ],
 "metadata": {
  "kernelspec": {
   "display_name": "Python 3",
   "language": "python",
   "name": "python3"
  },
  "language_info": {
   "codemirror_mode": {
    "name": "ipython",
    "version": 3
   },
   "file_extension": ".py",
   "mimetype": "text/x-python",
   "name": "python",
   "nbconvert_exporter": "python",
   "pygments_lexer": "ipython3",
   "version": "3.10.5"
  },
  "orig_nbformat": 4
 },
 "nbformat": 4,
 "nbformat_minor": 2
}
