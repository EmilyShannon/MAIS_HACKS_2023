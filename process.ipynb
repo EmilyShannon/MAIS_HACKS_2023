{
 "cells": [
  {
   "cell_type": "code",
   "execution_count": 1,
   "metadata": {},
   "outputs": [
    {
     "data": {
      "text/plain": [
       "(21510, 87131)"
      ]
     },
     "execution_count": 1,
     "metadata": {},
     "output_type": "execute_result"
    }
   ],
   "source": [
    "\n",
    "import pandas as pd\n",
    "albums = pd.read_csv('albums.csv')\n",
    "albums.head()\n",
    "\n",
    "bands = pd.read_csv('bands.csv')\n",
    "bands.head()\n",
    "\n",
    "reviews = pd.read_csv('reviews.csv')\n",
    "reviews.head()\n",
    "\n",
    "from sklearn.feature_extraction.text import TfidfVectorizer\n",
    "\n",
    "#Define a TF-IDF Vectorizer Object. Remove all english stop words such as 'the', 'a'\n",
    "tfidf = TfidfVectorizer(stop_words='english')\n",
    "\n",
    "#Replace NaN with an empty string\n",
    "reviews['content'] = reviews['content'].fillna('')\n",
    "\n",
    "#Construct the required TF-IDF matrix by fitting and transforming the data\n",
    "tfidf_matrix = tfidf.fit_transform(reviews['content'])\n",
    "\n",
    "#Output the shape of tfidf_matrix\n",
    "tfidf_matrix.shape"
   ]
  },
  {
   "cell_type": "code",
   "execution_count": 2,
   "metadata": {},
   "outputs": [],
   "source": [
    "#fidf.get_feature_names()[5000:5010]\n",
    "# Import linear_kernel\n",
    "from sklearn.metrics.pairwise import linear_kernel\n",
    "\n",
    "# Compute the cosine similarity matrix\n",
    "cosine_sim = linear_kernel(tfidf_matrix, tfidf_matrix)"
   ]
  },
  {
   "cell_type": "code",
   "execution_count": 3,
   "metadata": {},
   "outputs": [
    {
     "data": {
      "text/plain": [
       "(21510,)"
      ]
     },
     "execution_count": 3,
     "metadata": {},
     "output_type": "execute_result"
    }
   ],
   "source": [
    "#Construct a reverse map of indices and reviews.\n",
    "indices = pd.Series(reviews.index, index=reviews['content']).drop_duplicates()\n",
    "indices.shape\n",
    "\n"
   ]
  },
  {
   "cell_type": "code",
   "execution_count": 4,
   "metadata": {},
   "outputs": [
    {
     "data": {
      "text/plain": [
       "[(20347, 0.2775676666110631),\n",
       " (9763, 0.21185362197211285),\n",
       " (12190, 0.19241484297501776),\n",
       " (11156, 0.19089152727849493),\n",
       " (15314, 0.18726147779156557)]"
      ]
     },
     "execution_count": 4,
     "metadata": {},
     "output_type": "execute_result"
    }
   ],
   "source": [
    "index = 0\n",
    "sim_scores = list(enumerate(cosine_sim[index]))\n",
    "#Get 10 most similar reviews \n",
    "sim_scores = sorted(sim_scores, key=lambda x: x[1], reverse=True)\n",
    "sim_scores = sim_scores[1:6]\n",
    "sim_scores"
   ]
  },
  {
   "cell_type": "code",
   "execution_count": 5,
   "metadata": {},
   "outputs": [
    {
     "name": "stdout",
     "output_type": "stream",
     "text": [
      "20347    27390\n",
      "9763     14389\n",
      "12190    19172\n",
      "11156    17554\n",
      "15314    23267\n",
      "Name: album, dtype: int64\n",
      "[          id   band  title  year\n",
      "27389  27390  37439  Golem  1988,           id   band                   title  year\n",
      "14388  14389  22382  Machinegunnery of Doom  1997,           id   band                     title  year\n",
      "19171  19172  29539  Carving a Crimson Career  1999,           id   band      title  year\n",
      "17553  17554  27467  Hellbound  2008,           id   band               title  year\n",
      "23266  23267  34100  Breathing the Fire  2009]\n"
     ]
    },
    {
     "data": {
      "text/html": [
       "<div>\n",
       "<style scoped>\n",
       "    .dataframe tbody tr th:only-of-type {\n",
       "        vertical-align: middle;\n",
       "    }\n",
       "\n",
       "    .dataframe tbody tr th {\n",
       "        vertical-align: top;\n",
       "    }\n",
       "\n",
       "    .dataframe thead th {\n",
       "        text-align: right;\n",
       "    }\n",
       "</style>\n",
       "<table border=\"1\" class=\"dataframe\">\n",
       "  <thead>\n",
       "    <tr style=\"text-align: right;\">\n",
       "      <th></th>\n",
       "      <th>id</th>\n",
       "      <th>album</th>\n",
       "      <th>title</th>\n",
       "      <th>score</th>\n",
       "      <th>content</th>\n",
       "    </tr>\n",
       "  </thead>\n",
       "  <tbody>\n",
       "    <tr>\n",
       "      <th>12</th>\n",
       "      <td>13</td>\n",
       "      <td>67</td>\n",
       "      <td>Pure Fucking Goremageddon!</td>\n",
       "      <td>0.87</td>\n",
       "      <td>This was my first Aborted album| I basically c...</td>\n",
       "    </tr>\n",
       "    <tr>\n",
       "      <th>13</th>\n",
       "      <td>14</td>\n",
       "      <td>67</td>\n",
       "      <td>Essential Brutality</td>\n",
       "      <td>1.00</td>\n",
       "      <td>Aborted quickly became one of my favorite deat...</td>\n",
       "    </tr>\n",
       "    <tr>\n",
       "      <th>14</th>\n",
       "      <td>15</td>\n",
       "      <td>67</td>\n",
       "      <td>Now this is Goregrind at it's finest</td>\n",
       "      <td>0.95</td>\n",
       "      <td>I gotta say I've always been an avid Aborted f...</td>\n",
       "    </tr>\n",
       "    <tr>\n",
       "      <th>15</th>\n",
       "      <td>16</td>\n",
       "      <td>67</td>\n",
       "      <td>Aborted will carve you up!</td>\n",
       "      <td>0.86</td>\n",
       "      <td>‘The Doctor is in….’ – the first four words ut...</td>\n",
       "    </tr>\n",
       "    <tr>\n",
       "      <th>16</th>\n",
       "      <td>17</td>\n",
       "      <td>67</td>\n",
       "      <td>yet another gore band</td>\n",
       "      <td>0.87</td>\n",
       "      <td>now lets get one thing sorted straight from th...</td>\n",
       "    </tr>\n",
       "    <tr>\n",
       "      <th>17</th>\n",
       "      <td>18</td>\n",
       "      <td>67</td>\n",
       "      <td>Saw wielding brutality</td>\n",
       "      <td>0.85</td>\n",
       "      <td>This album has quite possibly the most appropr...</td>\n",
       "    </tr>\n",
       "  </tbody>\n",
       "</table>\n",
       "</div>"
      ],
      "text/plain": [
       "    id  album                                 title  score  \\\n",
       "12  13     67            Pure Fucking Goremageddon!   0.87   \n",
       "13  14     67                   Essential Brutality   1.00   \n",
       "14  15     67  Now this is Goregrind at it's finest   0.95   \n",
       "15  16     67            Aborted will carve you up!   0.86   \n",
       "16  17     67                 yet another gore band   0.87   \n",
       "17  18     67                Saw wielding brutality   0.85   \n",
       "\n",
       "                                              content  \n",
       "12  This was my first Aborted album| I basically c...  \n",
       "13  Aborted quickly became one of my favorite deat...  \n",
       "14  I gotta say I've always been an avid Aborted f...  \n",
       "15  ‘The Doctor is in….’ – the first four words ut...  \n",
       "16  now lets get one thing sorted straight from th...  \n",
       "17  This album has quite possibly the most appropr...  "
      ]
     },
     "execution_count": 5,
     "metadata": {},
     "output_type": "execute_result"
    }
   ],
   "source": [
    "rec_indices = [k[0] for k in sim_scores]\n",
    "album_ids = reviews['album'].iloc[rec_indices]\n",
    "print(album_ids)\n",
    "album_names = []\n",
    "for id in album_ids:\n",
    "        album_names.append(albums.loc[albums['id'] == id])\n",
    "print(album_names)\n",
    "#sorted(album_names, key= lambda x : reviews.loc[reviews['id']])\n",
    "reviews.loc[reviews['album'] == 67]"
   ]
  },
  {
   "cell_type": "code",
   "execution_count": 6,
   "metadata": {},
   "outputs": [],
   "source": [
    "import recommend\n",
    "import helpers\n",
    "data = helpers.read_data()\n",
    "recommender = recommend.Recommender()\n"
   ]
  },
  {
   "cell_type": "code",
   "execution_count": 7,
   "metadata": {},
   "outputs": [
    {
     "name": "stdout",
     "output_type": "stream",
     "text": [
      "20347    27390\n",
      "9763     14389\n",
      "12190    19172\n",
      "11156    17554\n",
      "15314    23267\n",
      "Name: album, dtype: int64\n"
     ]
    },
    {
     "data": {
      "text/plain": [
       "[          id   band  title  year\n",
       " 27389  27390  37439  Golem  1988,\n",
       "           id   band                   title  year\n",
       " 14388  14389  22382  Machinegunnery of Doom  1997,\n",
       "           id   band                     title  year\n",
       " 19171  19172  29539  Carving a Crimson Career  1999,\n",
       "           id   band      title  year\n",
       " 17553  17554  27467  Hellbound  2008,\n",
       "           id   band               title  year\n",
       " 23266  23267  34100  Breathing the Fire  2009]"
      ]
     },
     "execution_count": 7,
     "metadata": {},
     "output_type": "execute_result"
    }
   ],
   "source": [
    "import pandas as pd\n",
    "recommender.get_album_recommendations_from_review(recommender.reviews.iloc[0]['content'], indices = pd.Series(recommender.reviews.index, index=recommender.reviews['content']).drop_duplicates())\n",
    "\n"
   ]
  },
  {
   "cell_type": "code",
   "execution_count": 12,
   "metadata": {},
   "outputs": [
    {
     "data": {
      "text/plain": [
       "0.88"
      ]
     },
     "execution_count": 12,
     "metadata": {},
     "output_type": "execute_result"
    }
   ],
   "source": [
    "float(recommender.reviews.iloc[0]['score'])"
   ]
  },
  {
   "cell_type": "code",
   "execution_count": 9,
   "metadata": {},
   "outputs": [
    {
     "data": {
      "text/plain": [
       "0    1\n",
       "Name: id, dtype: int64"
      ]
     },
     "execution_count": 9,
     "metadata": {},
     "output_type": "execute_result"
    }
   ],
   "source": [
    "album_id = recommender.albums.loc[recommender.albums['title'] == 'Taste the Hate']['id']\n",
    "album_id"
   ]
  }
 ],
 "metadata": {
  "kernelspec": {
   "display_name": "Python 3",
   "language": "python",
   "name": "python3"
  },
  "language_info": {
   "codemirror_mode": {
    "name": "ipython",
    "version": 3
   },
   "file_extension": ".py",
   "mimetype": "text/x-python",
   "name": "python",
   "nbconvert_exporter": "python",
   "pygments_lexer": "ipython3",
   "version": "3.10.5"
  },
  "orig_nbformat": 4
 },
 "nbformat": 4,
 "nbformat_minor": 2
}
